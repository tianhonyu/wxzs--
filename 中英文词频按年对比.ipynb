{
 "cells": [
  {
   "cell_type": "code",
   "execution_count": 1,
   "metadata": {},
   "outputs": [],
   "source": [
    "import pandas as pd\n",
    "import matplotlib.pyplot as plt\n",
    "import numpy as np\n",
    "\n",
    "from collections import Counter\n",
    "\n",
    "import os\n",
    "os.chdir('D://BaiduNetdiskWorkspace\\A河北地质大学图书馆项目\\校平台项目\\文献综述写文章\\分词')"
   ]
  },
  {
   "cell_type": "code",
   "execution_count": 11,
   "metadata": {},
   "outputs": [
    {
     "ename": "AttributeError",
     "evalue": "'DataFrame' object has no attribute 'append'",
     "output_type": "error",
     "traceback": [
      "\u001b[1;31m---------------------------------------------------------------------------\u001b[0m",
      "\u001b[1;31mAttributeError\u001b[0m                            Traceback (most recent call last)",
      "Cell \u001b[1;32mIn[11], line 3\u001b[0m\n\u001b[0;32m      1\u001b[0m data_en \u001b[39m=\u001b[39m pd\u001b[39m.\u001b[39mread_excel(\u001b[39m'\u001b[39m\u001b[39mCipin_n.xls\u001b[39m\u001b[39m'\u001b[39m)\n\u001b[0;32m      2\u001b[0m data_ch \u001b[39m=\u001b[39m pd\u001b[39m.\u001b[39mread_excel(\u001b[39m'\u001b[39m\u001b[39mCipin_n_CNKI.xls\u001b[39m\u001b[39m'\u001b[39m)\n\u001b[1;32m----> 3\u001b[0m data_h\u001b[39m=\u001b[39mdata_en\u001b[39m.\u001b[39;49mappend(data_ch,ignore_index\u001b[39m=\u001b[39m\u001b[39mFalse\u001b[39;00m)\n\u001b[0;32m      4\u001b[0m data_h\u001b[39m=\u001b[39mdata_h\u001b[39m.\u001b[39mdrop(\u001b[39m'\u001b[39m\u001b[39mUnnamed: 0\u001b[39m\u001b[39m'\u001b[39m,axis \u001b[39m=\u001b[39m \u001b[39m1\u001b[39m)\n\u001b[0;32m      5\u001b[0m data_h\n",
      "File \u001b[1;32mc:\\Users\\hp\\AppData\\Local\\Programs\\Python\\Python311\\Lib\\site-packages\\pandas\\core\\generic.py:5989\u001b[0m, in \u001b[0;36mNDFrame.__getattr__\u001b[1;34m(self, name)\u001b[0m\n\u001b[0;32m   5982\u001b[0m \u001b[39mif\u001b[39;00m (\n\u001b[0;32m   5983\u001b[0m     name \u001b[39mnot\u001b[39;00m \u001b[39min\u001b[39;00m \u001b[39mself\u001b[39m\u001b[39m.\u001b[39m_internal_names_set\n\u001b[0;32m   5984\u001b[0m     \u001b[39mand\u001b[39;00m name \u001b[39mnot\u001b[39;00m \u001b[39min\u001b[39;00m \u001b[39mself\u001b[39m\u001b[39m.\u001b[39m_metadata\n\u001b[0;32m   5985\u001b[0m     \u001b[39mand\u001b[39;00m name \u001b[39mnot\u001b[39;00m \u001b[39min\u001b[39;00m \u001b[39mself\u001b[39m\u001b[39m.\u001b[39m_accessors\n\u001b[0;32m   5986\u001b[0m     \u001b[39mand\u001b[39;00m \u001b[39mself\u001b[39m\u001b[39m.\u001b[39m_info_axis\u001b[39m.\u001b[39m_can_hold_identifiers_and_holds_name(name)\n\u001b[0;32m   5987\u001b[0m ):\n\u001b[0;32m   5988\u001b[0m     \u001b[39mreturn\u001b[39;00m \u001b[39mself\u001b[39m[name]\n\u001b[1;32m-> 5989\u001b[0m \u001b[39mreturn\u001b[39;00m \u001b[39mobject\u001b[39;49m\u001b[39m.\u001b[39;49m\u001b[39m__getattribute__\u001b[39;49m(\u001b[39mself\u001b[39;49m, name)\n",
      "\u001b[1;31mAttributeError\u001b[0m: 'DataFrame' object has no attribute 'append'"
     ]
    }
   ],
   "source": [
    "data_en = pd.read_excel('Cipin_n.xls')\n",
    "data_ch = pd.read_excel('Cipin_n_CNKI.xls')\n",
    "data_h=data_en.append(data_ch,ignore_index=False)\n",
    "data_h=data_h.drop('Unnamed: 0',axis = 1)\n",
    "data_h"
   ]
  },
  {
   "cell_type": "code",
   "execution_count": 6,
   "metadata": {},
   "outputs": [
    {
     "ename": "NameError",
     "evalue": "name 'data_h' is not defined",
     "output_type": "error",
     "traceback": [
      "\u001b[1;31m---------------------------------------------------------------------------\u001b[0m",
      "\u001b[1;31mNameError\u001b[0m                                 Traceback (most recent call last)",
      "Cell \u001b[1;32mIn[6], line 1\u001b[0m\n\u001b[1;32m----> 1\u001b[0m Ci_n\u001b[39m=\u001b[39mdata_h\u001b[39m.\u001b[39mT\n\u001b[0;32m      2\u001b[0m array \u001b[39m=\u001b[39m np\u001b[39m.\u001b[39marray(Ci_n)  \u001b[39m# 将df转换为list对象\u001b[39;00m\n\u001b[0;32m      3\u001b[0m list_1 \u001b[39m=\u001b[39m array\u001b[39m.\u001b[39mtolist()  \u001b[39m# 将array转换为list\u001b[39;00m\n",
      "\u001b[1;31mNameError\u001b[0m: name 'data_h' is not defined"
     ]
    }
   ],
   "source": [
    "Ci_n=data_h.T\n",
    "array = np.array(Ci_n)  # 将df转换为list对象\n",
    "list_1 = array.tolist()  # 将array转换为list\n",
    "list_h  = list_1[0]         # 获取第一行的数据\n",
    "#print(list_h)\n",
    "Ci_n.columns = list_h \n",
    "Ci_n=Ci_n.reset_index().rename(columns={'index':'Year'})\n",
    "Ci_n.drop([0], inplace=True) \n",
    "Ci_n=Ci_n.sort_values(by=['Year'])\n",
    "Ci_n.fillna(0,inplace=True) # 将空值填充为0，非交易日的SP500数据填补为0\n",
    "Ci_n=Ci_n.astype(int)#把浮点型强制转化为int\n",
    "Ci_n"
   ]
  },
  {
   "cell_type": "code",
   "execution_count": 8,
   "metadata": {},
   "outputs": [
    {
     "ename": "NameError",
     "evalue": "name 'Ci_n' is not defined",
     "output_type": "error",
     "traceback": [
      "\u001b[1;31m---------------------------------------------------------------------------\u001b[0m",
      "\u001b[1;31mNameError\u001b[0m                                 Traceback (most recent call last)",
      "Cell \u001b[1;32mIn[8], line 6\u001b[0m\n\u001b[0;32m      4\u001b[0m \u001b[39m#plt.figure(figsize=(15,8))#图大小\u001b[39;00m\n\u001b[0;32m      5\u001b[0m plt\u001b[39m.\u001b[39mrcParams[\u001b[39m\"\u001b[39m\u001b[39mfont.family\u001b[39m\u001b[39m\"\u001b[39m]\u001b[39m=\u001b[39m\u001b[39m\"\u001b[39m\u001b[39mSimHei\u001b[39m\u001b[39m\"\u001b[39m\u001b[39m#加入一行这个代码，我们的中文就能正确显示了，这行代码就是把我们的字体设置为“SimHei”中文黑体。\u001b[39;00m\n\u001b[1;32m----> 6\u001b[0m plt\u001b[39m.\u001b[39mbar(Ci_n[\u001b[39m'\u001b[39m\u001b[39mYear\u001b[39m\u001b[39m'\u001b[39m],Ci_n[Mc],\u001b[39m0.5\u001b[39m)\u001b[39m#,color=blue\u001b[39;00m\n\u001b[0;32m      7\u001b[0m plt\u001b[39m.\u001b[39mxticks(Ci_n[\u001b[39m'\u001b[39m\u001b[39mYear\u001b[39m\u001b[39m'\u001b[39m])\n\u001b[0;32m      8\u001b[0m \u001b[39m#plt.gca().yaxis.set_major_formatter(mticker.FormatStrFormatter('%.0f 次'))\u001b[39;00m\n",
      "\u001b[1;31mNameError\u001b[0m: name 'Ci_n' is not defined"
     ]
    }
   ],
   "source": [
    "import matplotlib.ticker as mticker  \n",
    "#绘制纵向柱形图（刻画某词出现次数）\n",
    "Mc='深度学习'#某词   '深度学习', '知识图谱','协同过滤'\n",
    "#plt.figure(figsize=(15,8))#图大小\n",
    "plt.rcParams[\"font.family\"]=\"SimHei\"#加入一行这个代码，我们的中文就能正确显示了，这行代码就是把我们的字体设置为“SimHei”中文黑体。\n",
    "plt.bar(Ci_n['Year'],Ci_n[Mc],0.5)#,color=blue\n",
    "plt.xticks(Ci_n['Year'])\n",
    "#plt.gca().yaxis.set_major_formatter(mticker.FormatStrFormatter('%.0f 次'))\n",
    "plt.gca().xaxis.set_major_formatter(mticker.FormatStrFormatter('%.0f 年'))\n",
    "\n",
    "font = {'family': 'SimHei',\n",
    "        'color':  'darkred',\n",
    "        'weight': 'normal',\n",
    "        'size': 16,\n",
    "        }\n",
    "\n",
    "plt.ylabel(Mc, fontdict=font)\n",
    "\n",
    "plt.savefig('knowledge graph按年_深度学习1.jpg', dpi=600,bbox_inches='tight')\n",
    "plt.show()"
   ]
  },
  {
   "cell_type": "code",
   "execution_count": 9,
   "metadata": {},
   "outputs": [
    {
     "ename": "NameError",
     "evalue": "name 'Ci_n' is not defined",
     "output_type": "error",
     "traceback": [
      "\u001b[1;31m---------------------------------------------------------------------------\u001b[0m",
      "\u001b[1;31mNameError\u001b[0m                                 Traceback (most recent call last)",
      "Cell \u001b[1;32mIn[9], line 14\u001b[0m\n\u001b[0;32m     12\u001b[0m x\u001b[39m=\u001b[39m[\u001b[39m0\u001b[39m,\u001b[39m1\u001b[39m,\u001b[39m2\u001b[39m,\u001b[39m3\u001b[39m,\u001b[39m4\u001b[39m,\u001b[39m5\u001b[39m]\n\u001b[0;32m     13\u001b[0m plt\u001b[39m.\u001b[39mrc(\u001b[39m'\u001b[39m\u001b[39mfont\u001b[39m\u001b[39m'\u001b[39m, family\u001b[39m=\u001b[39m\u001b[39m'\u001b[39m\u001b[39mSimHei\u001b[39m\u001b[39m'\u001b[39m, size\u001b[39m=\u001b[39m\u001b[39m14\u001b[39m)\u001b[39m#设置中文显示，否则出现乱码！\u001b[39;00m\n\u001b[1;32m---> 14\u001b[0m a\u001b[39m=\u001b[39mplt\u001b[39m.\u001b[39mbar(Ci_n[\u001b[39m'\u001b[39m\u001b[39mYear\u001b[39m\u001b[39m'\u001b[39m]\u001b[39m-\u001b[39m\u001b[39m0.2\u001b[39m, Ci_n[\u001b[39m'\u001b[39m\u001b[39m深度学习\u001b[39m\u001b[39m'\u001b[39m], width\u001b[39m=\u001b[39mwidth, label\u001b[39m=\u001b[39m\u001b[39m'\u001b[39m\u001b[39m中文\u001b[39m\u001b[39m'\u001b[39m,fc \u001b[39m=\u001b[39m \u001b[39m'\u001b[39m\u001b[39mb\u001b[39m\u001b[39m'\u001b[39m) \n\u001b[0;32m     15\u001b[0m \u001b[39mfor\u001b[39;00m i \u001b[39min\u001b[39;00m \u001b[39mrange\u001b[39m(\u001b[39mlen\u001b[39m(x)):\n\u001b[0;32m     16\u001b[0m     x[i] \u001b[39m=\u001b[39m x[i] \u001b[39m+\u001b[39m width\u001b[39m*\u001b[39m\u001b[39m2\u001b[39m\n",
      "\u001b[1;31mNameError\u001b[0m: name 'Ci_n' is not defined"
     ]
    }
   ],
   "source": [
    "import matplotlib.pyplot as plt\n",
    "import mpl_toolkits.mplot3d\n",
    "#定义函数来显示柱状上的数值\n",
    "#def autolabel(rects):\n",
    "# for rect in rects:\n",
    "#  height = rect.get_height()\n",
    "#  plt.text(rect.get_x()+rect.get_width()/2.-0.2, 1.03*height, '%s' % float(height))\n",
    "if __name__ == '__main__': \n",
    "\n",
    "    total_width, n = 0.8, 2\n",
    "    width = total_width / n\n",
    "    x=[0,1,2,3,4,5]\n",
    "    plt.rc('font', family='SimHei', size=14)#设置中文显示，否则出现乱码！\n",
    "    a=plt.bar(Ci_n['Year']-0.2, Ci_n['深度学习'], width=width, label='中文',fc = 'b') \n",
    "    for i in range(len(x)):\n",
    "        x[i] = x[i] + width*2\n",
    "    b=plt.bar(Ci_n['Year']+0.2, Ci_n['deep learning'], width=width, label='英文',fc = 'k')#,tick_label = Ci_n['Year']\n",
    "# autolabel(a)\n",
    "# autolabel(b)\n",
    "    plt.xlabel('年  份')\n",
    "    plt.ylabel('次  数')\n",
    "    plt.title('深度学习')\n",
    "    plt.legend()\n",
    "    plt.savefig('knowledge graph按年_深度学习2.jpg', dpi=600,bbox_inches='tight')\n",
    "    plt.show()\n",
    "#'深度学习'deep learning, '知识图谱'knowledge graph,'协同过滤'collaborative filtering"
   ]
  },
  {
   "cell_type": "code",
   "execution_count": null,
   "metadata": {},
   "outputs": [],
   "source": []
  },
  {
   "cell_type": "code",
   "execution_count": null,
   "metadata": {},
   "outputs": [],
   "source": []
  }
 ],
 "metadata": {
  "kernelspec": {
   "display_name": "Python 3",
   "language": "python",
   "name": "python3"
  },
  "language_info": {
   "codemirror_mode": {
    "name": "ipython",
    "version": 3
   },
   "file_extension": ".py",
   "mimetype": "text/x-python",
   "name": "python",
   "nbconvert_exporter": "python",
   "pygments_lexer": "ipython3",
   "version": "3.11.3"
  }
 },
 "nbformat": 4,
 "nbformat_minor": 4
}
